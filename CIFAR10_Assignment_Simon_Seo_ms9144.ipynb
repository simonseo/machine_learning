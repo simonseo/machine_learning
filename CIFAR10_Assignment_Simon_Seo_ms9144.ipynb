{
 "cells": [
  {
   "cell_type": "markdown",
   "metadata": {},
   "source": [
    "## Convolutional Neural Network Assignment: Image Classification on CIFAR 10\n",
    "###### Simon Seo (ms9144)\n",
    "In this assignment, you will design and implement a CNN model in Keras. We will use the CIFAR-10. Please note you **only need to use 1000 training examples** (CPU is much slower than GPU so we do not use the full dataset). Please complete the rest of the notebook by doing following tasks.\n",
    "\n",
    "- Build your network. Your network should have **at least 2 convolutional layers, 1 max pooling layer and 1 fully connected layer**\n",
    "- Train your network. Use Keras to train your network based on your network structure. Describe your training procedure. Plot the following:\n",
    "    1. Training and validation loss vs. training iterations.\n",
    "    2. Training and validation accuracy vs. training iterations.\n",
    "- Report a final test result on 100 testing examples.\n",
    "- Give detailed explanation of your code\n",
    "\n",
    "\n",
    "- *Bonus*: you can use more train/test data to build a stronger model\n",
    "\n",
    "You may want to check [Keras documentation](http://keras.io) for reference."
   ]
  },
  {
   "cell_type": "code",
   "execution_count": 2,
   "metadata": {
    "collapsed": false
   },
   "outputs": [
    {
     "name": "stderr",
     "output_type": "stream",
     "text": [
      "Using Theano backend.\n",
      "/Users/seo/anaconda3/envs/cnnPy3/lib/python3.4/site-packages/theano/tensor/signal/downsample.py:6: UserWarning: downsample module has been moved to the theano.tensor.signal.pool module.\n",
      "  \"downsample module has been moved to the theano.tensor.signal.pool module.\")\n"
     ]
    }
   ],
   "source": [
    "# some setup code\n",
    "from keras.datasets import cifar10\n",
    "from keras.preprocessing.image import ImageDataGenerator\n",
    "from keras.models import Sequential\n",
    "from keras.layers.core import Dense, Dropout, Activation, Flatten\n",
    "from keras.layers.convolutional import Convolution2D, MaxPooling2D\n",
    "from keras.optimizers import SGD, RMSprop\n",
    "from keras.utils import np_utils\n",
    "import numpy as np\n",
    "\n",
    "# A bit of magic to make matplotlib figures appear inline in the notebook\n",
    "# rather than in a new window.\n",
    "%matplotlib inline \n",
    "import matplotlib.pyplot as plt\n",
    "\n",
    "plt.rcParams['figure.figsize'] = (10.0, 8.0) # set default size of plots\n",
    "plt.rcParams['image.interpolation'] = 'nearest'\n",
    "plt.rcParams['image.cmap'] = 'gray'"
   ]
  },
  {
   "cell_type": "code",
   "execution_count": 3,
   "metadata": {
    "collapsed": false
   },
   "outputs": [
    {
     "name": "stdout",
     "output_type": "stream",
     "text": [
      "X_train shape: (50000, 3, 32, 32)\n",
      "[[6]\n",
      " [9]\n",
      " [9]\n",
      " [4]\n",
      " [1]\n",
      " [1]\n",
      " [2]\n",
      " [7]\n",
      " [8]\n",
      " [3]]\n"
     ]
    }
   ],
   "source": [
    "# the data, shuffled and split between train and test sets\n",
    "(X_train, y_train), (X_test, y_test) = cifar10.load_data()\n",
    "print('X_train shape:', X_train.shape)\n",
    "print(y_train[:10])"
   ]
  },
  {
   "cell_type": "code",
   "execution_count": null,
   "metadata": {
    "collapsed": false
   },
   "outputs": [],
   "source": [
    "# Visualize some examples from the dataset.\n",
    "# We show a few examples of training images from each class.\n",
    "classes = ['plane', 'car', 'bird', 'cat', 'deer', 'dog', 'frog', 'horse', 'ship', 'truck']\n",
    "num_classes = len(classes)\n",
    "samples_per_class = 7\n",
    "for y, cls in enumerate(classes):\n",
    "    idxs = np.flatnonzero(y_train == y)\n",
    "    idxs = np.random.choice(idxs, samples_per_class, replace=False)\n",
    "    for i, idx in enumerate(idxs):\n",
    "        plt_idx = i * num_classes + y + 1\n",
    "        plt.subplot(samples_per_class, num_classes, plt_idx)\n",
    "        plt.imshow(X_train[idx].transpose((1,2,0)).astype('uint8'))\n",
    "        plt.axis('off')\n",
    "        if i == 0:\n",
    "            plt.title(cls)\n",
    "plt.show()"
   ]
  },
  {
   "cell_type": "code",
   "execution_count": 15,
   "metadata": {
    "collapsed": false
   },
   "outputs": [
    {
     "name": "stdout",
     "output_type": "stream",
     "text": [
      "1000 train samples\n",
      "100 test samples\n"
     ]
    }
   ],
   "source": [
    "# Subsample the data for more efficient code execution in this exercise\n",
    "num_training = 1000\n",
    "mask = list(range(num_training))\n",
    "X_train = X_train[mask]\n",
    "y_train = y_train[mask]\n",
    "\n",
    "num_test = 100\n",
    "mask = list(range(num_test))\n",
    "X_test = X_test[mask]\n",
    "y_test = y_test[mask]\n",
    "\n",
    "print(X_train.shape[0], 'train samples')\n",
    "print(X_test.shape[0], 'test samples')\n",
    "\n",
    "# convert class vectors to binary class matrices\n",
    "# because Keras wants something called \"one-hot\" (https://en.wikipedia.org/wiki/One-hot) to be labels\n",
    "nb_classes = 10\n",
    "y_train = np_utils.to_categorical(y_train, nb_classes)\n",
    "y_test = np_utils.to_categorical(y_test, nb_classes)"
   ]
  },
  {
   "cell_type": "markdown",
   "metadata": {},
   "source": [
    "### Build and Train A CNN Model\n",
    "This Neural Network consists of the following layers:\n",
    "1. Convolutional layer\n",
    "1. ReLU activation layer\n",
    "1. Convolutional layer\n",
    "1. ReLU activation layer\n",
    "1. Max Pool layer\n",
    "1. Dropout layer\n",
    "1. Fully connected layer\n",
    "1. ReLU activation layer\n",
    "1. Dropout layer\n",
    "1. Fully connected layer\n",
    "1. ReLU activation layer\n",
    "1. Dropout layer\n",
    "1. Output layer"
   ]
  },
  {
   "cell_type": "code",
   "execution_count": 16,
   "metadata": {
    "collapsed": false,
    "scrolled": true
   },
   "outputs": [
    {
     "name": "stdout",
     "output_type": "stream",
     "text": [
      "Train on 1000 samples, validate on 100 samples\n",
      "Epoch 1/10\n",
      "1000/1000 [==============================] - 20s - loss: 2.3647 - val_loss: 2.2801\n",
      "Epoch 2/10\n",
      "1000/1000 [==============================] - 21s - loss: 2.2349 - val_loss: 2.1698\n",
      "Epoch 3/10\n",
      "1000/1000 [==============================] - 21s - loss: 2.1319 - val_loss: 2.1006\n",
      "Epoch 4/10\n",
      "1000/1000 [==============================] - 21s - loss: 2.0634 - val_loss: 2.3439\n",
      "Epoch 5/10\n",
      "1000/1000 [==============================] - 20s - loss: 1.9722 - val_loss: 1.9550\n",
      "Epoch 6/10\n",
      "1000/1000 [==============================] - 21s - loss: 1.8681 - val_loss: 1.8816\n",
      "Epoch 7/10\n",
      "1000/1000 [==============================] - 21s - loss: 1.7914 - val_loss: 1.8300\n",
      "Epoch 8/10\n",
      "1000/1000 [==============================] - 20s - loss: 1.6985 - val_loss: 2.1961\n",
      "Epoch 9/10\n",
      "1000/1000 [==============================] - 20s - loss: 1.6644 - val_loss: 1.7800\n",
      "Epoch 10/10\n",
      "1000/1000 [==============================] - 19s - loss: 1.5229 - val_loss: 1.6721\n",
      "100/100 [==============================] - 0s\n",
      "Validation loss: 1.67\n",
      "Validation accuracy: 40.0 %\n"
     ]
    }
   ],
   "source": [
    "batch_size = 32 \n",
    "nb_epoch = 10\n",
    "\n",
    "# input image dimensions\n",
    "img_rows, img_cols = 32, 32\n",
    "# the CIFAR10 images are RGB\n",
    "img_channels = 3\n",
    "\n",
    "model = Sequential()\n",
    "\n",
    "### PLEASE PUT YOUR CODE HERE!\n",
    "### Add Convolution, Activation and Pooling layers, compile your model, and fit it.\n",
    "\n",
    "model.add(Convolution2D(32, 3, 3,\n",
    "                        border_mode='same',\n",
    "                        activation='relu',\n",
    "                        input_shape=(img_channels, img_rows, img_cols)))\n",
    "model.add(Convolution2D(32, 3, 3,\n",
    "                        activation='relu'))\n",
    "model.add(MaxPooling2D(pool_size=(2,2)))\n",
    "model.add(Dropout(0.25))\n",
    "\n",
    "\n",
    "model.add(Flatten())\n",
    "model.add(Dense(512, activation='relu'))\n",
    "model.add(Dropout(0.5))\n",
    "model.add(Dense(32))\n",
    "model.add(Activation('relu'))\n",
    "model.add(Dropout(0.5))\n",
    "model.add(Dense(nb_classes,\n",
    "                activation='softmax'))\n",
    "\n",
    "# sgd = SGD(lr=0.01, decay=1e-6, momentum=0.9, nesterov=True)\n",
    "# model.compile(optimizer=sgd,\n",
    "#              loss='categorical_crossentropy')\n",
    "rmsprop = RMSprop(lr=0.001, rho=0.9, epsilon=1e-08, decay=0.0)\n",
    "model.compile(optimizer=rmsprop,\n",
    "              loss='categorical_crossentropy')\n",
    "\n",
    "X_train = X_train.astype('float32')\n",
    "X_test = X_test.astype('float32')\n",
    "X_train /= 255 # range in [0,1]\n",
    "X_test /= 255\n",
    "\n",
    "\n",
    "hist = model.fit(X_train, y_train,\n",
    "          batch_size=batch_size, \n",
    "          nb_epoch=nb_epoch,\n",
    "          verbose=1,\n",
    "          validation_data=(X_test, y_test))\n",
    "          \n",
    "score = model.evaluate(X_test, y_test,\n",
    "                       show_accuracy=True)\n",
    "\n",
    "print('Validation loss:', round(score[0],2))\n",
    "print('Validation accuracy:', round(100*score[1],2), \"%\")"
   ]
  },
  {
   "cell_type": "markdown",
   "metadata": {
    "collapsed": true
   },
   "source": [
    "### Test your model on test set"
   ]
  },
  {
   "cell_type": "code",
   "execution_count": 17,
   "metadata": {
    "collapsed": false
   },
   "outputs": [
    {
     "name": "stdout",
     "output_type": "stream",
     "text": [
      "100/100 [==============================] - 0s\n",
      "Test loss: 1.67206430435\n",
      "Test accuracy: 0.4\n",
      "{'val_loss': [2.2800863265991209, 2.1697977066040037, 2.1006338453292845, 2.3438821601867676, 1.9549769401550292, 1.8815937995910645, 1.8300444507598876, 2.1961210536956788, 1.779995665550232, 1.6720643186569213], 'loss': [2.3646671600341795, 2.2349357566833494, 2.131936725616455, 2.0633879985809327, 1.9721885681152345, 1.868142713546753, 1.7913667507171631, 1.6984856815338134, 1.6643564720153809, 1.5229298105239868], 'batch': [15.128, 15.128, 15.128, 15.128, 15.128, 15.128, 15.128, 15.128, 15.128, 15.128], 'size': [31.808, 31.808, 31.808, 31.808, 31.808, 31.808, 31.808, 31.808, 31.808, 31.808]}\n"
     ]
    }
   ],
   "source": [
    "score = model.evaluate(X_test, y_test,\n",
    "                       show_accuracy=True, verbose=1)\n",
    "print('Test loss:', score[0])\n",
    "print('Test accuracy:', score[1])\n",
    "print(hist.history)"
   ]
  },
  {
   "cell_type": "markdown",
   "metadata": {},
   "source": [
    "### Report on Training\n",
    "This Neural Network takes around 20 seconds on each iteration, and it took 200 seconds in total to reach an accuracy around 40%. \n",
    "\n",
    "The training and validation loss is reported below."
   ]
  },
  {
   "cell_type": "code",
   "execution_count": 21,
   "metadata": {
    "collapsed": false
   },
   "outputs": [
    {
     "data": {
      "image/png": "[encoded data removed]",
      "text/plain": [
       "<matplotlib.figure.Figure at 0x11e363ef0>"
      ]
     },
     "metadata": {},
     "output_type": "display_data"
    }
   ],
   "source": [
    "import matplotlib.pyplot as plt\n",
    "iteration = list(range(1,11))\n",
    "val_loss = hist.history['val_loss']\n",
    "loss = hist.history['loss']\n",
    "plt.plot(iteration, val_loss, label='Validation Loss')\n",
    "plt.plot(iteration, loss, label='Training Loss')\n",
    "plt.xlabel('Number of Iterations')\n",
    "plt.ylabel('Loss Value')\n",
    "plt.title('Training & Validation Loss vs. Training Iterations')\n",
    "plt.legend()\n",
    "plt.show()"
   ]
  },
  {
   "cell_type": "code",
   "execution_count": null,
   "metadata": {
    "collapsed": true
   },
   "outputs": [],
   "source": []
  }
 ],
 "metadata": {
  "anaconda-cloud": {},
  "kernelspec": {
   "display_name": "Python 3",
   "language": "python",
   "name": "python3"
  },
  "language_info": {
   "codemirror_mode": {
    "name": "ipython",
    "version": 3
   },
   "file_extension": ".py",
   "mimetype": "text/x-python",
   "name": "python",
   "nbconvert_exporter": "python",
   "pygments_lexer": "ipython3",
   "version": "3.4.4"
  }
 },
 "nbformat": 4,
 "nbformat_minor": 0
}
